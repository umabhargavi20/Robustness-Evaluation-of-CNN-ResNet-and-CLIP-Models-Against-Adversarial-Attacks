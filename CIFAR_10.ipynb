{
  "nbformat": 4,
  "nbformat_minor": 0,
  "metadata": {
    "colab": {
      "provenance": [],
      "machine_shape": "hm",
      "gpuType": "T4",
      "include_colab_link": true
    },
    "kernelspec": {
      "name": "python3",
      "display_name": "Python 3"
    },
    "language_info": {
      "name": "python"
    },
    "accelerator": "GPU"
  },
  "cells": [
    {
      "cell_type": "markdown",
      "metadata": {
        "id": "view-in-github",
        "colab_type": "text"
      },
      "source": [
        "<a href=\"https://colab.research.google.com/github/umabhargavi20/Robustness-Evaluation-of-CNN-ResNet-and-CLIP-Models-Against-Adversarial-Attacks/blob/main/CIFAR_10.ipynb\" target=\"_parent\"><img src=\"https://colab.research.google.com/assets/colab-badge.svg\" alt=\"Open In Colab\"/></a>"
      ]
    },
    {
      "cell_type": "code",
      "execution_count": null,
      "metadata": {
        "colab": {
          "base_uri": "https://localhost:8080/"
        },
        "id": "wxLbN9RT41gL",
        "outputId": "6a2998ed-f63d-4302-e713-2d4232422b43"
      },
      "outputs": [
        {
          "output_type": "stream",
          "name": "stdout",
          "text": [
            "Drive already mounted at /content/drive; to attempt to forcibly remount, call drive.mount(\"/content/drive\", force_remount=True).\n"
          ]
        }
      ],
      "source": [
        "from google.colab import drive\n",
        "drive.mount('/content/drive')"
      ]
    },
    {
      "cell_type": "code",
      "source": [
        "import os\n",
        "os.chdir('/content/drive/MyDrive/Colab Notebooks/TML/ATTACKS_CIFAR_MNIST')"
      ],
      "metadata": {
        "id": "D_vxNBvf5VCt"
      },
      "execution_count": null,
      "outputs": []
    },
    {
      "cell_type": "code",
      "source": [
        "import pandas as pd\n",
        "import numpy as np\n",
        "import matplotlib.pyplot as plt\n",
        "%matplotlib inline\n",
        "\n",
        "import tensorflow as tf\n",
        "from tensorflow.keras.datasets import cifar10\n",
        "from tensorflow.keras.utils import to_categorical\n",
        "\n",
        "from tensorflow.keras.models import Sequential\n",
        "from tensorflow.keras.layers import Dense, Conv2D, MaxPool2D, Flatten, Dropout, BatchNormalization\n",
        "from tensorflow.keras.callbacks import EarlyStopping\n",
        "from tensorflow.keras.preprocessing.image import ImageDataGenerator\n",
        "\n",
        "from sklearn.metrics import ConfusionMatrixDisplay\n",
        "from sklearn.metrics import classification_report, confusion_matrix\n",
        "from tensorflow.keras.models import load_model\n",
        "from tensorflow.keras import layers, models, regularizers"
      ],
      "metadata": {
        "id": "lLio9FY45a9_"
      },
      "execution_count": null,
      "outputs": []
    },
    {
      "cell_type": "code",
      "source": [
        "(x_train,y_train),(x_test,y_test) = cifar10.load_data()"
      ],
      "metadata": {
        "id": "FUROdFhn5qNN"
      },
      "execution_count": null,
      "outputs": []
    },
    {
      "cell_type": "code",
      "source": [
        "print(f\"X_train shape: {x_train.shape}\")\n",
        "print(f\"y_train shape: {y_train.shape}\")\n",
        "print(f\"X_test shape: {x_test.shape}\")\n",
        "print(f\"y_test shape: {y_test.shape}\")"
      ],
      "metadata": {
        "colab": {
          "base_uri": "https://localhost:8080/"
        },
        "id": "ygTF29XGGcy5",
        "outputId": "81d9aebf-1224-43f5-d58e-54e6ea436751"
      },
      "execution_count": null,
      "outputs": [
        {
          "output_type": "stream",
          "name": "stdout",
          "text": [
            "X_train shape: (50000, 32, 32, 3)\n",
            "y_train shape: (50000, 1)\n",
            "X_test shape: (10000, 32, 32, 3)\n",
            "y_test shape: (10000, 1)\n"
          ]
        }
      ]
    },
    {
      "cell_type": "code",
      "source": [
        "class_names = [\"airplane\", \"automobile\", \"bird\", \"cat\", \"deer\", \"dog\", \"frog\", \"horse\", \"ship\", \"truck\"]\n",
        "\n",
        "def plot_sample(X, y, index):\n",
        "    plt.figure(figsize=(15, 2))\n",
        "    plt.imshow(X[index])\n",
        "    plt.xlabel(class_names[y[index].item()])\n",
        "    plt.show()"
      ],
      "metadata": {
        "id": "_c1XkhoWGt2N"
      },
      "execution_count": null,
      "outputs": []
    },
    {
      "cell_type": "code",
      "source": [
        "X_train = x_train.astype('float32') / 255.\n",
        "X_test = x_test.astype('float32') / 255.\n",
        "\n",
        "num_classes = 10\n",
        "y_train = to_categorical(y_train, num_classes)\n",
        "y_test = to_categorical(y_test, num_classes)"
      ],
      "metadata": {
        "id": "FpJ7XFvRG3Iy"
      },
      "execution_count": null,
      "outputs": []
    },
    {
      "cell_type": "code",
      "source": [],
      "metadata": {
        "id": "0aKlaULD6Fdx"
      },
      "execution_count": null,
      "outputs": []
    },
    {
      "cell_type": "code",
      "source": [
        "model = models.Sequential([\n",
        "\n",
        "    layers.Conv2D(filters=32, kernel_size=(3, 3), activation='relu', padding='same'),\n",
        "    layers.BatchNormalization(),\n",
        "\n",
        "    layers.Conv2D(filters=64, kernel_size=(3, 3), activation='relu', padding='same'),\n",
        "    layers.BatchNormalization(),\n",
        "    layers.Conv2D(filters=64, kernel_size=(3, 3), activation='relu', padding='same'),\n",
        "    layers.BatchNormalization(),\n",
        "    layers.MaxPooling2D(pool_size=(2, 2)),\n",
        "    layers.Dropout(0.3),\n",
        "\n",
        "    layers.Conv2D(filters=128, kernel_size=(3, 3), activation='relu', padding='same'),\n",
        "    layers.BatchNormalization(),\n",
        "    layers.Conv2D(filters=128, kernel_size=(3, 3), activation='relu', padding='same'),\n",
        "    layers.BatchNormalization(),\n",
        "    layers.MaxPooling2D(pool_size=(2, 2)),\n",
        "    layers.Dropout(0.4),\n",
        "\n",
        "    layers.Conv2D(filters=256, kernel_size=(3, 3), activation='relu', padding='same'),\n",
        "    layers.BatchNormalization(),\n",
        "    layers.Conv2D(filters=256, kernel_size=(3, 3), activation='relu', padding='same'),\n",
        "    layers.BatchNormalization(),\n",
        "    layers.MaxPooling2D(pool_size=(2, 2)),\n",
        "    layers.Dropout(0.5),\n",
        "\n",
        "    layers.GlobalAveragePooling2D(),\n",
        "\n",
        "    layers.Dense(256, activation='relu', kernel_regularizer=regularizers.l2(0.01)),\n",
        "    layers.Dropout(0.5),\n",
        "\n",
        "    layers.Dense(num_classes, activation='softmax')\n",
        "])"
      ],
      "metadata": {
        "id": "1EZFTbmzG_-z",
        "colab": {
          "base_uri": "https://localhost:8080/",
          "height": 211
        },
        "outputId": "1fe389c6-28b0-4d56-b0b3-2a5a79efe1aa"
      },
      "execution_count": null,
      "outputs": [
        {
          "output_type": "error",
          "ename": "NameError",
          "evalue": "name 'models' is not defined",
          "traceback": [
            "\u001b[0;31m---------------------------------------------------------------------------\u001b[0m",
            "\u001b[0;31mNameError\u001b[0m                                 Traceback (most recent call last)",
            "\u001b[0;32m<ipython-input-33-86193b10d9cc>\u001b[0m in \u001b[0;36m<cell line: 1>\u001b[0;34m()\u001b[0m\n\u001b[0;32m----> 1\u001b[0;31m model = models.Sequential([\n\u001b[0m\u001b[1;32m      2\u001b[0m \u001b[0;34m\u001b[0m\u001b[0m\n\u001b[1;32m      3\u001b[0m     \u001b[0mlayers\u001b[0m\u001b[0;34m.\u001b[0m\u001b[0mConv2D\u001b[0m\u001b[0;34m(\u001b[0m\u001b[0mfilters\u001b[0m\u001b[0;34m=\u001b[0m\u001b[0;36m32\u001b[0m\u001b[0;34m,\u001b[0m \u001b[0mkernel_size\u001b[0m\u001b[0;34m=\u001b[0m\u001b[0;34m(\u001b[0m\u001b[0;36m3\u001b[0m\u001b[0;34m,\u001b[0m \u001b[0;36m3\u001b[0m\u001b[0;34m)\u001b[0m\u001b[0;34m,\u001b[0m \u001b[0mactivation\u001b[0m\u001b[0;34m=\u001b[0m\u001b[0;34m'relu'\u001b[0m\u001b[0;34m,\u001b[0m \u001b[0mpadding\u001b[0m\u001b[0;34m=\u001b[0m\u001b[0;34m'same'\u001b[0m\u001b[0;34m)\u001b[0m\u001b[0;34m,\u001b[0m\u001b[0;34m\u001b[0m\u001b[0;34m\u001b[0m\u001b[0m\n\u001b[1;32m      4\u001b[0m     \u001b[0mlayers\u001b[0m\u001b[0;34m.\u001b[0m\u001b[0mBatchNormalization\u001b[0m\u001b[0;34m(\u001b[0m\u001b[0;34m)\u001b[0m\u001b[0;34m,\u001b[0m\u001b[0;34m\u001b[0m\u001b[0;34m\u001b[0m\u001b[0m\n\u001b[1;32m      5\u001b[0m \u001b[0;34m\u001b[0m\u001b[0m\n",
            "\u001b[0;31mNameError\u001b[0m: name 'models' is not defined"
          ]
        }
      ]
    },
    {
      "cell_type": "code",
      "source": [
        "y_train = np.argmax(y_train, axis=1)\n",
        "y_test = np.argmax(y_test, axis=1)"
      ],
      "metadata": {
        "id": "QkT65Z78HncR"
      },
      "execution_count": null,
      "outputs": []
    },
    {
      "cell_type": "code",
      "source": [
        "model.compile(optimizer='adam',\n",
        "                  loss='sparse_categorical_crossentropy',\n",
        "                  metrics=['accuracy'])"
      ],
      "metadata": {
        "id": "baMcTGfwH1tJ"
      },
      "execution_count": null,
      "outputs": []
    },
    {
      "cell_type": "code",
      "source": [
        "datagen = ImageDataGenerator(\n",
        "    rotation_range=15,\n",
        "    width_shift_range=0.1,\n",
        "    height_shift_range=0.1,\n",
        "    shear_range=0.1,\n",
        "    zoom_range=0.1,\n",
        "    horizontal_flip=True,\n",
        "    fill_mode='nearest'\n",
        ")\n",
        "\n",
        "datagen.fit(X_train)"
      ],
      "metadata": {
        "id": "I8CceI_9H4SM"
      },
      "execution_count": null,
      "outputs": []
    },
    {
      "cell_type": "code",
      "source": [
        "early_stopping = EarlyStopping(monitor='val_loss', patience=5, restore_best_weights=True)\n",
        "\n",
        "history = model.fit(datagen.flow(X_train, y_train, batch_size=32),\n",
        "               epochs=50,\n",
        "               validation_data=(X_test, y_test),\n",
        "               callbacks=[early_stopping])"
      ],
      "metadata": {
        "colab": {
          "base_uri": "https://localhost:8080/"
        },
        "id": "EMGPP8McH7M6",
        "outputId": "08d09c38-6b8a-440c-dbb4-404fb78a8446"
      },
      "execution_count": null,
      "outputs": [
        {
          "output_type": "stream",
          "name": "stdout",
          "text": [
            "Epoch 1/50\n"
          ]
        },
        {
          "output_type": "stream",
          "name": "stderr",
          "text": [
            "/usr/local/lib/python3.10/dist-packages/keras/src/trainers/data_adapters/py_dataset_adapter.py:122: UserWarning: Your `PyDataset` class should call `super().__init__(**kwargs)` in its constructor. `**kwargs` can include `workers`, `use_multiprocessing`, `max_queue_size`. Do not pass these arguments to `fit()`, as they will be ignored.\n",
            "  self._warn_if_super_not_called()\n"
          ]
        },
        {
          "output_type": "stream",
          "name": "stdout",
          "text": [
            "\u001b[1m1563/1563\u001b[0m \u001b[32m━━━━━━━━━━━━━━━━━━━━\u001b[0m\u001b[37m\u001b[0m \u001b[1m53s\u001b[0m 26ms/step - accuracy: 0.3534 - loss: 2.7977 - val_accuracy: 0.5477 - val_loss: 1.4450\n",
            "Epoch 2/50\n",
            "\u001b[1m1563/1563\u001b[0m \u001b[32m━━━━━━━━━━━━━━━━━━━━\u001b[0m\u001b[37m\u001b[0m \u001b[1m32s\u001b[0m 20ms/step - accuracy: 0.5740 - loss: 1.2699 - val_accuracy: 0.6171 - val_loss: 1.1812\n",
            "Epoch 3/50\n",
            "\u001b[1m1563/1563\u001b[0m \u001b[32m━━━━━━━━━━━━━━━━━━━━\u001b[0m\u001b[37m\u001b[0m \u001b[1m32s\u001b[0m 20ms/step - accuracy: 0.6445 - loss: 1.1061 - val_accuracy: 0.6009 - val_loss: 1.2859\n",
            "Epoch 4/50\n",
            "\u001b[1m1563/1563\u001b[0m \u001b[32m━━━━━━━━━━━━━━━━━━━━\u001b[0m\u001b[37m\u001b[0m \u001b[1m32s\u001b[0m 20ms/step - accuracy: 0.6959 - loss: 0.9823 - val_accuracy: 0.6794 - val_loss: 1.0486\n",
            "Epoch 5/50\n",
            "\u001b[1m1563/1563\u001b[0m \u001b[32m━━━━━━━━━━━━━━━━━━━━\u001b[0m\u001b[37m\u001b[0m \u001b[1m32s\u001b[0m 21ms/step - accuracy: 0.7250 - loss: 0.9058 - val_accuracy: 0.7300 - val_loss: 0.9643\n",
            "Epoch 6/50\n",
            "\u001b[1m1563/1563\u001b[0m \u001b[32m━━━━━━━━━━━━━━━━━━━━\u001b[0m\u001b[37m\u001b[0m \u001b[1m32s\u001b[0m 21ms/step - accuracy: 0.7476 - loss: 0.8497 - val_accuracy: 0.7294 - val_loss: 0.9346\n",
            "Epoch 7/50\n",
            "\u001b[1m1563/1563\u001b[0m \u001b[32m━━━━━━━━━━━━━━━━━━━━\u001b[0m\u001b[37m\u001b[0m \u001b[1m32s\u001b[0m 20ms/step - accuracy: 0.7582 - loss: 0.8132 - val_accuracy: 0.7587 - val_loss: 0.8327\n",
            "Epoch 8/50\n",
            "\u001b[1m1563/1563\u001b[0m \u001b[32m━━━━━━━━━━━━━━━━━━━━\u001b[0m\u001b[37m\u001b[0m \u001b[1m32s\u001b[0m 21ms/step - accuracy: 0.7742 - loss: 0.7777 - val_accuracy: 0.7826 - val_loss: 0.7706\n",
            "Epoch 9/50\n",
            "\u001b[1m1563/1563\u001b[0m \u001b[32m━━━━━━━━━━━━━━━━━━━━\u001b[0m\u001b[37m\u001b[0m \u001b[1m32s\u001b[0m 20ms/step - accuracy: 0.7851 - loss: 0.7510 - val_accuracy: 0.8239 - val_loss: 0.6427\n",
            "Epoch 10/50\n",
            "\u001b[1m1563/1563\u001b[0m \u001b[32m━━━━━━━━━━━━━━━━━━━━\u001b[0m\u001b[37m\u001b[0m \u001b[1m32s\u001b[0m 20ms/step - accuracy: 0.7906 - loss: 0.7229 - val_accuracy: 0.7977 - val_loss: 0.7243\n",
            "Epoch 11/50\n",
            "\u001b[1m1563/1563\u001b[0m \u001b[32m━━━━━━━━━━━━━━━━━━━━\u001b[0m\u001b[37m\u001b[0m \u001b[1m32s\u001b[0m 20ms/step - accuracy: 0.8057 - loss: 0.6967 - val_accuracy: 0.8324 - val_loss: 0.6202\n",
            "Epoch 12/50\n",
            "\u001b[1m1563/1563\u001b[0m \u001b[32m━━━━━━━━━━━━━━━━━━━━\u001b[0m\u001b[37m\u001b[0m \u001b[1m32s\u001b[0m 21ms/step - accuracy: 0.8052 - loss: 0.6911 - val_accuracy: 0.8315 - val_loss: 0.6223\n",
            "Epoch 13/50\n",
            "\u001b[1m1563/1563\u001b[0m \u001b[32m━━━━━━━━━━━━━━━━━━━━\u001b[0m\u001b[37m\u001b[0m \u001b[1m32s\u001b[0m 21ms/step - accuracy: 0.8115 - loss: 0.6703 - val_accuracy: 0.8094 - val_loss: 0.7153\n",
            "Epoch 14/50\n",
            "\u001b[1m1563/1563\u001b[0m \u001b[32m━━━━━━━━━━━━━━━━━━━━\u001b[0m\u001b[37m\u001b[0m \u001b[1m32s\u001b[0m 20ms/step - accuracy: 0.8124 - loss: 0.6709 - val_accuracy: 0.8013 - val_loss: 0.7502\n",
            "Epoch 15/50\n",
            "\u001b[1m1563/1563\u001b[0m \u001b[32m━━━━━━━━━━━━━━━━━━━━\u001b[0m\u001b[37m\u001b[0m \u001b[1m32s\u001b[0m 21ms/step - accuracy: 0.8222 - loss: 0.6446 - val_accuracy: 0.8409 - val_loss: 0.5836\n",
            "Epoch 16/50\n",
            "\u001b[1m1563/1563\u001b[0m \u001b[32m━━━━━━━━━━━━━━━━━━━━\u001b[0m\u001b[37m\u001b[0m \u001b[1m32s\u001b[0m 20ms/step - accuracy: 0.8197 - loss: 0.6428 - val_accuracy: 0.8307 - val_loss: 0.6394\n",
            "Epoch 17/50\n",
            "\u001b[1m1563/1563\u001b[0m \u001b[32m━━━━━━━━━━━━━━━━━━━━\u001b[0m\u001b[37m\u001b[0m \u001b[1m32s\u001b[0m 21ms/step - accuracy: 0.8261 - loss: 0.6302 - val_accuracy: 0.8480 - val_loss: 0.5756\n",
            "Epoch 18/50\n",
            "\u001b[1m1563/1563\u001b[0m \u001b[32m━━━━━━━━━━━━━━━━━━━━\u001b[0m\u001b[37m\u001b[0m \u001b[1m32s\u001b[0m 21ms/step - accuracy: 0.8318 - loss: 0.6182 - val_accuracy: 0.8567 - val_loss: 0.5655\n",
            "Epoch 19/50\n",
            "\u001b[1m1563/1563\u001b[0m \u001b[32m━━━━━━━━━━━━━━━━━━━━\u001b[0m\u001b[37m\u001b[0m \u001b[1m32s\u001b[0m 20ms/step - accuracy: 0.8357 - loss: 0.6122 - val_accuracy: 0.8479 - val_loss: 0.5522\n",
            "Epoch 20/50\n",
            "\u001b[1m1563/1563\u001b[0m \u001b[32m━━━━━━━━━━━━━━━━━━━━\u001b[0m\u001b[37m\u001b[0m \u001b[1m32s\u001b[0m 21ms/step - accuracy: 0.8348 - loss: 0.6051 - val_accuracy: 0.8359 - val_loss: 0.6215\n",
            "Epoch 21/50\n",
            "\u001b[1m1563/1563\u001b[0m \u001b[32m━━━━━━━━━━━━━━━━━━━━\u001b[0m\u001b[37m\u001b[0m \u001b[1m32s\u001b[0m 20ms/step - accuracy: 0.8372 - loss: 0.5986 - val_accuracy: 0.8380 - val_loss: 0.6280\n",
            "Epoch 22/50\n",
            "\u001b[1m1563/1563\u001b[0m \u001b[32m━━━━━━━━━━━━━━━━━━━━\u001b[0m\u001b[37m\u001b[0m \u001b[1m32s\u001b[0m 20ms/step - accuracy: 0.8403 - loss: 0.5808 - val_accuracy: 0.8489 - val_loss: 0.5775\n",
            "Epoch 23/50\n",
            "\u001b[1m1563/1563\u001b[0m \u001b[32m━━━━━━━━━━━━━━━━━━━━\u001b[0m\u001b[37m\u001b[0m \u001b[1m32s\u001b[0m 20ms/step - accuracy: 0.8436 - loss: 0.5793 - val_accuracy: 0.8646 - val_loss: 0.5322\n",
            "Epoch 24/50\n",
            "\u001b[1m1563/1563\u001b[0m \u001b[32m━━━━━━━━━━━━━━━━━━━━\u001b[0m\u001b[37m\u001b[0m \u001b[1m32s\u001b[0m 20ms/step - accuracy: 0.8449 - loss: 0.5763 - val_accuracy: 0.8313 - val_loss: 0.6775\n",
            "Epoch 25/50\n",
            "\u001b[1m1563/1563\u001b[0m \u001b[32m━━━━━━━━━━━━━━━━━━━━\u001b[0m\u001b[37m\u001b[0m \u001b[1m32s\u001b[0m 21ms/step - accuracy: 0.8504 - loss: 0.5618 - val_accuracy: 0.8652 - val_loss: 0.5144\n",
            "Epoch 26/50\n",
            "\u001b[1m1563/1563\u001b[0m \u001b[32m━━━━━━━━━━━━━━━━━━━━\u001b[0m\u001b[37m\u001b[0m \u001b[1m32s\u001b[0m 21ms/step - accuracy: 0.8494 - loss: 0.5623 - val_accuracy: 0.8522 - val_loss: 0.5675\n",
            "Epoch 27/50\n",
            "\u001b[1m1563/1563\u001b[0m \u001b[32m━━━━━━━━━━━━━━━━━━━━\u001b[0m\u001b[37m\u001b[0m \u001b[1m32s\u001b[0m 21ms/step - accuracy: 0.8532 - loss: 0.5496 - val_accuracy: 0.8620 - val_loss: 0.5366\n",
            "Epoch 28/50\n",
            "\u001b[1m1563/1563\u001b[0m \u001b[32m━━━━━━━━━━━━━━━━━━━━\u001b[0m\u001b[37m\u001b[0m \u001b[1m32s\u001b[0m 21ms/step - accuracy: 0.8571 - loss: 0.5482 - val_accuracy: 0.8441 - val_loss: 0.6281\n",
            "Epoch 29/50\n",
            "\u001b[1m1563/1563\u001b[0m \u001b[32m━━━━━━━━━━━━━━━━━━━━\u001b[0m\u001b[37m\u001b[0m \u001b[1m32s\u001b[0m 20ms/step - accuracy: 0.8557 - loss: 0.5515 - val_accuracy: 0.8541 - val_loss: 0.5523\n",
            "Epoch 30/50\n",
            "\u001b[1m1563/1563\u001b[0m \u001b[32m━━━━━━━━━━━━━━━━━━━━\u001b[0m\u001b[37m\u001b[0m \u001b[1m32s\u001b[0m 21ms/step - accuracy: 0.8595 - loss: 0.5355 - val_accuracy: 0.8729 - val_loss: 0.5026\n",
            "Epoch 31/50\n",
            "\u001b[1m1563/1563\u001b[0m \u001b[32m━━━━━━━━━━━━━━━━━━━━\u001b[0m\u001b[37m\u001b[0m \u001b[1m32s\u001b[0m 21ms/step - accuracy: 0.8602 - loss: 0.5356 - val_accuracy: 0.8459 - val_loss: 0.6076\n",
            "Epoch 32/50\n",
            "\u001b[1m1563/1563\u001b[0m \u001b[32m━━━━━━━━━━━━━━━━━━━━\u001b[0m\u001b[37m\u001b[0m \u001b[1m32s\u001b[0m 20ms/step - accuracy: 0.8615 - loss: 0.5270 - val_accuracy: 0.8704 - val_loss: 0.5219\n",
            "Epoch 33/50\n",
            "\u001b[1m1563/1563\u001b[0m \u001b[32m━━━━━━━━━━━━━━━━━━━━\u001b[0m\u001b[37m\u001b[0m \u001b[1m33s\u001b[0m 21ms/step - accuracy: 0.8623 - loss: 0.5218 - val_accuracy: 0.8424 - val_loss: 0.6070\n",
            "Epoch 34/50\n",
            "\u001b[1m1563/1563\u001b[0m \u001b[32m━━━━━━━━━━━━━━━━━━━━\u001b[0m\u001b[37m\u001b[0m \u001b[1m32s\u001b[0m 20ms/step - accuracy: 0.8654 - loss: 0.5219 - val_accuracy: 0.8498 - val_loss: 0.6016\n",
            "Epoch 35/50\n",
            "\u001b[1m1563/1563\u001b[0m \u001b[32m━━━━━━━━━━━━━━━━━━━━\u001b[0m\u001b[37m\u001b[0m \u001b[1m33s\u001b[0m 21ms/step - accuracy: 0.8650 - loss: 0.5185 - val_accuracy: 0.8579 - val_loss: 0.5537\n"
          ]
        }
      ]
    },
    {
      "cell_type": "code",
      "source": [
        "model.evaluate(X_test,y_test)"
      ],
      "metadata": {
        "colab": {
          "base_uri": "https://localhost:8080/"
        },
        "id": "KyZjpFg8LXUN",
        "outputId": "5912011e-3662-4b89-ce4e-cb3b18e8d49a"
      },
      "execution_count": null,
      "outputs": [
        {
          "output_type": "stream",
          "name": "stdout",
          "text": [
            "\u001b[1m313/313\u001b[0m \u001b[32m━━━━━━━━━━━━━━━━━━━━\u001b[0m\u001b[37m\u001b[0m \u001b[1m1s\u001b[0m 3ms/step - accuracy: 0.8727 - loss: 0.5033\n"
          ]
        },
        {
          "output_type": "execute_result",
          "data": {
            "text/plain": [
              "[0.502621591091156, 0.8729000091552734]"
            ]
          },
          "metadata": {},
          "execution_count": 39
        }
      ]
    },
    {
      "cell_type": "code",
      "source": [
        "model.save(\"./model/CIFAR_model.keras\")"
      ],
      "metadata": {
        "id": "UkoMY2cgMFSK"
      },
      "execution_count": null,
      "outputs": []
    },
    {
      "cell_type": "code",
      "source": [
        "loaded_model = load_model('./model/CIFAR_model.keras')"
      ],
      "metadata": {
        "id": "yWlAEpzH08DC"
      },
      "execution_count": null,
      "outputs": []
    },
    {
      "cell_type": "code",
      "source": [
        "y_test.ndim"
      ],
      "metadata": {
        "colab": {
          "base_uri": "https://localhost:8080/"
        },
        "id": "Zugo05MG_6Zy",
        "outputId": "2cad1731-7b4b-4268-ebe8-399e38d114e6"
      },
      "execution_count": null,
      "outputs": [
        {
          "output_type": "execute_result",
          "data": {
            "text/plain": [
              "1"
            ]
          },
          "metadata": {},
          "execution_count": 45
        }
      ]
    },
    {
      "cell_type": "code",
      "source": [
        "# Check if y_test is one-hot encoded\n",
        "if y_test.ndim > 1:  # If y_test has more than one dimension, it is one-hot encoded\n",
        "    y_test_int = np.argmax(y_test, axis=1)  # Convert from one-hot to integer labels\n",
        "else:\n",
        "    y_test_int = y_test  # Already in integer format\n",
        "\n",
        "# Apply FGSM to 10% of the test set\n",
        "num_images = X_test.shape[0]\n",
        "num_attack_images = int(num_images * 0.1)  # 10% of the test set\n",
        "attack_indices = np.random.choice(num_images, num_attack_images, replace=False)\n",
        "X_test_adv = np.copy(X_test)"
      ],
      "metadata": {
        "id": "DpYtZvcQ1NAA"
      },
      "execution_count": null,
      "outputs": []
    },
    {
      "cell_type": "code",
      "source": [
        "# FGSM Attack Function\n",
        "def fgsm_attack(model, x, y, epsilon=0.1):\n",
        "    x_var = tf.Variable(x)\n",
        "    with tf.GradientTape() as tape:\n",
        "        tape.watch(x_var)\n",
        "        predictions = model(x_var)\n",
        "        loss = tf.keras.losses.sparse_categorical_crossentropy(y, predictions)  # use integer labels (y)\n",
        "    gradient = tape.gradient(loss, x_var)\n",
        "    perturbation = epsilon * tf.sign(gradient)\n",
        "    x_adv = x + perturbation\n",
        "    x_adv = tf.clip_by_value(x_adv, 0, 1)  # Ensure the values are between 0 and 1\n",
        "    return x_adv"
      ],
      "metadata": {
        "id": "ra99peyR1UTq"
      },
      "execution_count": null,
      "outputs": []
    },
    {
      "cell_type": "code",
      "source": [
        "for i in attack_indices:\n",
        "    X_test_adv[i] = fgsm_attack(loaded_model, X_test[i:i+1], y_test_int[i:i+1], epsilon=0.1)"
      ],
      "metadata": {
        "id": "34a4LiyG1YTN"
      },
      "execution_count": null,
      "outputs": []
    },
    {
      "cell_type": "code",
      "source": [
        "# Step 7: Evaluate on adversarial examples\n",
        "loss_adv, accuracy_adv = loaded_model.evaluate(X_test_adv, y_test)\n",
        "print(f\"Test Loss (Adversarial): {loss_adv}\")\n",
        "print(f\"Test Accuracy (Adversarial): {accuracy_adv}\")"
      ],
      "metadata": {
        "colab": {
          "base_uri": "https://localhost:8080/"
        },
        "id": "Fl-qTWE51vbJ",
        "outputId": "59e32f34-6a09-40ed-ffeb-316778eae7cc"
      },
      "execution_count": null,
      "outputs": [
        {
          "output_type": "stream",
          "name": "stdout",
          "text": [
            "\u001b[1m313/313\u001b[0m \u001b[32m━━━━━━━━━━━━━━━━━━━━\u001b[0m\u001b[37m\u001b[0m \u001b[1m2s\u001b[0m 5ms/step - accuracy: 0.7940 - loss: 1.1563\n",
            "Test Loss (Adversarial): 1.1547452211380005\n",
            "Test Accuracy (Adversarial): 0.79339998960495\n"
          ]
        }
      ]
    },
    {
      "cell_type": "code",
      "source": [
        "import random\n",
        "from scipy.ndimage import shift\n",
        "# Spatial Attack Function (Random Pixel Shifts)\n",
        "def spatial_attack(x, shift_range=5):\n",
        "    \"\"\"\n",
        "    Apply a spatial attack by shifting pixels in random directions.\n",
        "\n",
        "    Args:\n",
        "        x: Input image (1 sample).\n",
        "        shift_range: Range for random pixel shifts (how many pixels to shift).\n",
        "\n",
        "    Returns:\n",
        "        Adversarial example.\n",
        "    \"\"\"\n",
        "    # Randomly shift the image in both x and y directions\n",
        "    shift_x = random.randint(-shift_range, shift_range)\n",
        "    shift_y = random.randint(-shift_range, shift_range)\n",
        "\n",
        "    # Apply the shift to the image\n",
        "    x_adv = shift(x, (shift_x, shift_y, 0), mode='nearest')\n",
        "\n",
        "    # Ensure the image is within [0, 1]\n",
        "    x_adv = np.clip(x_adv, 0, 1)\n",
        "\n",
        "    return x_adv"
      ],
      "metadata": {
        "id": "u6bL7ry4BIjD"
      },
      "execution_count": null,
      "outputs": []
    },
    {
      "cell_type": "code",
      "source": [
        "X_test_adv = np.copy(X_test)\n",
        "for i in attack_indices:\n",
        "    X_test_adv[i] = spatial_attack(X_test[i], shift_range=5)"
      ],
      "metadata": {
        "id": "FmkF4CceBOMJ"
      },
      "execution_count": null,
      "outputs": []
    },
    {
      "cell_type": "code",
      "source": [
        "# Evaluate the model on the mixed test set\n",
        "loss, accuracy = loaded_model.evaluate(X_test_adv, y_test_int)\n",
        "print(f\"Test Loss (with 10% poisoned by Spatial Attack): {loss}\")\n",
        "print(f\"Test Accuracy (with 10% poisoned by Spatial Attack): {accuracy}\")"
      ],
      "metadata": {
        "colab": {
          "base_uri": "https://localhost:8080/"
        },
        "id": "jeCwBei7BUzg",
        "outputId": "8f0fa306-4441-40c1-dbeb-a9d597ed1930"
      },
      "execution_count": null,
      "outputs": [
        {
          "output_type": "stream",
          "name": "stdout",
          "text": [
            "\u001b[1m313/313\u001b[0m \u001b[32m━━━━━━━━━━━━━━━━━━━━\u001b[0m\u001b[37m\u001b[0m \u001b[1m1s\u001b[0m 3ms/step - accuracy: 0.8712 - loss: 0.5070\n",
            "Test Loss (with 10% poisoned by Spatial Attack): 0.5031977295875549\n",
            "Test Accuracy (with 10% poisoned by Spatial Attack): 0.8723000288009644\n"
          ]
        }
      ]
    },
    {
      "cell_type": "code",
      "source": [
        "# PGD Attack Function\n",
        "def pgd_attack(model, x, y, epsilon=0.1, alpha=0.01, num_iter=40):\n",
        "    \"\"\"\n",
        "    Perform PGD attack on input data.\n",
        "\n",
        "    Args:\n",
        "        model: The target model.\n",
        "        x: Input data (images).\n",
        "        y: True labels.\n",
        "        epsilon: Maximum perturbation.\n",
        "        alpha: Step size for each iteration.\n",
        "        num_iter: Number of iterations.\n",
        "\n",
        "    Returns:\n",
        "        Adversarial examples.\n",
        "    \"\"\"\n",
        "    # Start with the original image\n",
        "    x_adv = tf.Variable(x)\n",
        "\n",
        "    for _ in range(num_iter):\n",
        "        with tf.GradientTape() as tape:\n",
        "            tape.watch(x_adv)\n",
        "            predictions = model(x_adv)\n",
        "            loss = tf.keras.losses.sparse_categorical_crossentropy(y, predictions)\n",
        "\n",
        "        # Get the gradient of the loss with respect to the input image\n",
        "        gradient = tape.gradient(loss, x_adv)\n",
        "\n",
        "        # Apply the perturbation (sign of the gradient * step size)\n",
        "        perturbation = alpha * tf.sign(gradient)\n",
        "\n",
        "        # Update the adversarial image by adding the perturbation\n",
        "        x_adv = x_adv + perturbation\n",
        "\n",
        "        # Project the adversarial image back into the valid range [0, 1]\n",
        "        x_adv = tf.clip_by_value(x_adv, 0, 1)\n",
        "\n",
        "        # Ensure the perturbation is within the epsilon bound\n",
        "        perturbation = tf.clip_by_value(x_adv - x, -epsilon, epsilon)\n",
        "        x_adv = x + perturbation\n",
        "\n",
        "        # Ensure the values are within [0, 1]\n",
        "        x_adv = tf.clip_by_value(x_adv, 0, 1)\n",
        "\n",
        "    return x_adv"
      ],
      "metadata": {
        "id": "x-NSpP8rBZQt"
      },
      "execution_count": null,
      "outputs": []
    },
    {
      "cell_type": "code",
      "source": [
        "for i in attack_indices:\n",
        "    X_test_adv[i] = pgd_attack(loaded_model, X_test[i:i+1], y_test_int[i:i+1], epsilon=0.1, alpha=0.01, num_iter=40)"
      ],
      "metadata": {
        "id": "EuKuRBOrBoZp"
      },
      "execution_count": null,
      "outputs": []
    },
    {
      "cell_type": "code",
      "source": [
        "loss, accuracy = loaded_model.evaluate(X_test_adv, y_test_int)\n",
        "print(f\"Test Loss (with 10% poisoned by PGD): {loss}\")\n",
        "print(f\"Test Accuracy (with 10% poisoned by PGD): {accuracy}\")"
      ],
      "metadata": {
        "id": "73zEfb0qIam9",
        "outputId": "d0659c60-3c3f-4424-f934-e03a057a6782",
        "colab": {
          "base_uri": "https://localhost:8080/"
        }
      },
      "execution_count": null,
      "outputs": [
        {
          "output_type": "stream",
          "name": "stdout",
          "text": [
            "\u001b[1m313/313\u001b[0m \u001b[32m━━━━━━━━━━━━━━━━━━━━\u001b[0m\u001b[37m\u001b[0m \u001b[1m1s\u001b[0m 3ms/step - accuracy: 0.7846 - loss: 7.8118\n",
            "Test Loss (with 10% poisoned by PGD): 7.882907867431641\n",
            "Test Accuracy (with 10% poisoned by PGD): 0.7835999727249146\n"
          ]
        }
      ]
    }
  ]
}