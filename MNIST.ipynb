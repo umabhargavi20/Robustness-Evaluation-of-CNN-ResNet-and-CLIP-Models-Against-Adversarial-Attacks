{
  "nbformat": 4,
  "nbformat_minor": 0,
  "metadata": {
    "colab": {
      "provenance": [],
      "gpuType": "T4",
      "include_colab_link": true
    },
    "kernelspec": {
      "name": "python3",
      "display_name": "Python 3"
    },
    "language_info": {
      "name": "python"
    },
    "accelerator": "GPU"
  },
  "cells": [
    {
      "cell_type": "markdown",
      "metadata": {
        "id": "view-in-github",
        "colab_type": "text"
      },
      "source": [
        "<a href=\"https://colab.research.google.com/github/umabhargavi20/Robustness-Evaluation-of-CNN-ResNet-and-CLIP-Models-Against-Adversarial-Attacks/blob/main/MNIST.ipynb\" target=\"_parent\"><img src=\"https://colab.research.google.com/assets/colab-badge.svg\" alt=\"Open In Colab\"/></a>"
      ]
    },
    {
      "cell_type": "code",
      "execution_count": null,
      "metadata": {
        "id": "dfijYghu4g1k",
        "colab": {
          "base_uri": "https://localhost:8080/"
        },
        "outputId": "27f6aca2-6655-449f-e905-eb28439082a2"
      },
      "outputs": [
        {
          "output_type": "stream",
          "name": "stdout",
          "text": [
            "Drive already mounted at /content/drive; to attempt to forcibly remount, call drive.mount(\"/content/drive\", force_remount=True).\n"
          ]
        }
      ],
      "source": [
        "from google.colab import drive\n",
        "drive.mount('/content/drive')"
      ]
    },
    {
      "cell_type": "code",
      "source": [
        "import os\n",
        "os.chdir('/content/drive/MyDrive/Colab Notebooks/TML/ATTACKS_CIFAR_MNIST')"
      ],
      "metadata": {
        "id": "Yi5OazHL_QK6"
      },
      "execution_count": null,
      "outputs": []
    },
    {
      "cell_type": "code",
      "source": [
        "import numpy as np\n",
        "import tensorflow as tf\n",
        "from tensorflow.keras.datasets import mnist\n",
        "from tensorflow.keras.utils import to_categorical\n",
        "from tensorflow.keras.models import Sequential\n",
        "from tensorflow.keras.layers import Dense, Flatten,Conv2D,MaxPooling2D\n",
        "from tensorflow.keras.models import load_model\n",
        "import matplotlib.pyplot as plt\n",
        "from tensorflow.keras import backend as K"
      ],
      "metadata": {
        "id": "AgC8v0xC_gVM"
      },
      "execution_count": null,
      "outputs": []
    },
    {
      "cell_type": "code",
      "source": [
        "(x_train,y_train),(x_test,y_test) = mnist.load_data()\n",
        "\n"
      ],
      "metadata": {
        "id": "TipJ86Hi_XIO",
        "colab": {
          "base_uri": "https://localhost:8080/"
        },
        "outputId": "e1c69cb3-22f9-4544-9593-1e8c5dd2bd9e"
      },
      "execution_count": null,
      "outputs": [
        {
          "output_type": "stream",
          "name": "stdout",
          "text": [
            "Downloading data from https://storage.googleapis.com/tensorflow/tf-keras-datasets/mnist.npz\n",
            "\u001b[1m11490434/11490434\u001b[0m \u001b[32m━━━━━━━━━━━━━━━━━━━━\u001b[0m\u001b[37m\u001b[0m \u001b[1m0s\u001b[0m 0us/step\n"
          ]
        }
      ]
    },
    {
      "cell_type": "code",
      "source": [
        "x_train = x_train.reshape(x_train.shape[0],28,28,1)\n",
        "x_test = x_test.reshape(x_test.shape[0],28,28,1)"
      ],
      "metadata": {
        "id": "bP5JhUhDBKai"
      },
      "execution_count": null,
      "outputs": []
    },
    {
      "cell_type": "code",
      "source": [
        "x_train = x_train.astype('float32')/255\n",
        "x_test = x_test.astype('float32')/255"
      ],
      "metadata": {
        "id": "rvh0OWf_BOQS"
      },
      "execution_count": null,
      "outputs": []
    },
    {
      "cell_type": "code",
      "source": [
        "y_train =to_categorical(y_train,10)\n",
        "y_test = to_categorical(y_test,10)"
      ],
      "metadata": {
        "id": "_c2WIJdZBSqV"
      },
      "execution_count": null,
      "outputs": []
    },
    {
      "cell_type": "code",
      "source": [
        "model = Sequential()"
      ],
      "metadata": {
        "id": "xmEATeSQBdye"
      },
      "execution_count": null,
      "outputs": []
    },
    {
      "cell_type": "code",
      "source": [
        "model.add(Conv2D(32, kernel_size = (3,3),activation = 'relu', input_shape = (28, 28, 1)  ))"
      ],
      "metadata": {
        "id": "qOo1IMVECBXv",
        "colab": {
          "base_uri": "https://localhost:8080/"
        },
        "outputId": "6fd098de-504c-477f-9d24-1dde85514cb5"
      },
      "execution_count": null,
      "outputs": [
        {
          "output_type": "stream",
          "name": "stderr",
          "text": [
            "/usr/local/lib/python3.10/dist-packages/keras/src/layers/convolutional/base_conv.py:107: UserWarning: Do not pass an `input_shape`/`input_dim` argument to a layer. When using Sequential models, prefer using an `Input(shape)` object as the first layer in the model instead.\n",
            "  super().__init__(activity_regularizer=activity_regularizer, **kwargs)\n"
          ]
        }
      ]
    },
    {
      "cell_type": "code",
      "source": [
        "model.add(MaxPooling2D(pool_size = (2,2)))"
      ],
      "metadata": {
        "id": "QUVNbHMSCEGc"
      },
      "execution_count": null,
      "outputs": []
    },
    {
      "cell_type": "code",
      "source": [
        "model.add(Flatten())"
      ],
      "metadata": {
        "id": "FFHK0AVTCG0N"
      },
      "execution_count": null,
      "outputs": []
    },
    {
      "cell_type": "code",
      "source": [
        "model.add(Dense(128,activation = 'relu'))\n",
        "model.add(Dense(10,activation = 'softmax'))"
      ],
      "metadata": {
        "id": "t-TLSafxCJN6"
      },
      "execution_count": null,
      "outputs": []
    },
    {
      "cell_type": "code",
      "source": [
        "from tensorflow.keras.losses import categorical_crossentropy\n",
        "model.compile(loss='categorical_crossentropy', optimizer='adam', metrics=['accuracy'])"
      ],
      "metadata": {
        "id": "6WS9rKIDCNyA"
      },
      "execution_count": null,
      "outputs": []
    },
    {
      "cell_type": "code",
      "source": [
        "model.fit(x_train, y_train, epochs=10, batch_size=128, validation_data=(x_test, y_test))"
      ],
      "metadata": {
        "colab": {
          "base_uri": "https://localhost:8080/"
        },
        "id": "JYpo0SVsCS6_",
        "outputId": "5a493f6d-0d05-428c-ba3c-b08b80e1a8ba"
      },
      "execution_count": null,
      "outputs": [
        {
          "output_type": "stream",
          "name": "stdout",
          "text": [
            "Epoch 1/10\n",
            "\u001b[1m469/469\u001b[0m \u001b[32m━━━━━━━━━━━━━━━━━━━━\u001b[0m\u001b[37m\u001b[0m \u001b[1m34s\u001b[0m 69ms/step - accuracy: 0.8836 - loss: 0.4401 - val_accuracy: 0.9717 - val_loss: 0.0934\n",
            "Epoch 2/10\n",
            "\u001b[1m469/469\u001b[0m \u001b[32m━━━━━━━━━━━━━━━━━━━━\u001b[0m\u001b[37m\u001b[0m \u001b[1m30s\u001b[0m 65ms/step - accuracy: 0.9772 - loss: 0.0755 - val_accuracy: 0.9811 - val_loss: 0.0541\n",
            "Epoch 3/10\n",
            "\u001b[1m469/469\u001b[0m \u001b[32m━━━━━━━━━━━━━━━━━━━━\u001b[0m\u001b[37m\u001b[0m \u001b[1m41s\u001b[0m 65ms/step - accuracy: 0.9864 - loss: 0.0472 - val_accuracy: 0.9832 - val_loss: 0.0487\n",
            "Epoch 4/10\n",
            "\u001b[1m469/469\u001b[0m \u001b[32m━━━━━━━━━━━━━━━━━━━━\u001b[0m\u001b[37m\u001b[0m \u001b[1m40s\u001b[0m 64ms/step - accuracy: 0.9898 - loss: 0.0344 - val_accuracy: 0.9868 - val_loss: 0.0432\n",
            "Epoch 5/10\n",
            "\u001b[1m469/469\u001b[0m \u001b[32m━━━━━━━━━━━━━━━━━━━━\u001b[0m\u001b[37m\u001b[0m \u001b[1m41s\u001b[0m 64ms/step - accuracy: 0.9926 - loss: 0.0259 - val_accuracy: 0.9849 - val_loss: 0.0457\n",
            "Epoch 6/10\n",
            "\u001b[1m469/469\u001b[0m \u001b[32m━━━━━━━━━━━━━━━━━━━━\u001b[0m\u001b[37m\u001b[0m \u001b[1m41s\u001b[0m 64ms/step - accuracy: 0.9949 - loss: 0.0184 - val_accuracy: 0.9869 - val_loss: 0.0443\n",
            "Epoch 7/10\n",
            "\u001b[1m469/469\u001b[0m \u001b[32m━━━━━━━━━━━━━━━━━━━━\u001b[0m\u001b[37m\u001b[0m \u001b[1m41s\u001b[0m 64ms/step - accuracy: 0.9962 - loss: 0.0134 - val_accuracy: 0.9862 - val_loss: 0.0428\n",
            "Epoch 8/10\n",
            "\u001b[1m469/469\u001b[0m \u001b[32m━━━━━━━━━━━━━━━━━━━━\u001b[0m\u001b[37m\u001b[0m \u001b[1m30s\u001b[0m 64ms/step - accuracy: 0.9967 - loss: 0.0110 - val_accuracy: 0.9870 - val_loss: 0.0466\n",
            "Epoch 9/10\n",
            "\u001b[1m469/469\u001b[0m \u001b[32m━━━━━━━━━━━━━━━━━━━━\u001b[0m\u001b[37m\u001b[0m \u001b[1m42s\u001b[0m 66ms/step - accuracy: 0.9976 - loss: 0.0091 - val_accuracy: 0.9867 - val_loss: 0.0433\n",
            "Epoch 10/10\n",
            "\u001b[1m469/469\u001b[0m \u001b[32m━━━━━━━━━━━━━━━━━━━━\u001b[0m\u001b[37m\u001b[0m \u001b[1m31s\u001b[0m 67ms/step - accuracy: 0.9981 - loss: 0.0069 - val_accuracy: 0.9852 - val_loss: 0.0484\n"
          ]
        },
        {
          "output_type": "execute_result",
          "data": {
            "text/plain": [
              "<keras.src.callbacks.history.History at 0x794ed421db70>"
            ]
          },
          "metadata": {},
          "execution_count": 15
        }
      ]
    },
    {
      "cell_type": "code",
      "source": [
        "test_loss, test_accuracy = model.evaluate(x_test, y_test)\n",
        "print('Test accuracy:', test_accuracy)"
      ],
      "metadata": {
        "colab": {
          "base_uri": "https://localhost:8080/"
        },
        "id": "DSLMhe44D0QM",
        "outputId": "7fdb6363-be6d-4ff3-e538-da3fb00488e8"
      },
      "execution_count": null,
      "outputs": [
        {
          "output_type": "stream",
          "name": "stdout",
          "text": [
            "\u001b[1m313/313\u001b[0m \u001b[32m━━━━━━━━━━━━━━━━━━━━\u001b[0m\u001b[37m\u001b[0m \u001b[1m2s\u001b[0m 6ms/step - accuracy: 0.9808 - loss: 0.0619\n",
            "Test accuracy: 0.9851999878883362\n"
          ]
        }
      ]
    },
    {
      "cell_type": "code",
      "source": [
        "model.save('./model/MNIST_model.keras')"
      ],
      "metadata": {
        "id": "HzgDbhMw8aqY"
      },
      "execution_count": null,
      "outputs": []
    },
    {
      "cell_type": "code",
      "source": [
        "loaded_model = load_model('./model/MNIST_model.keras')"
      ],
      "metadata": {
        "id": "UdEpNPCNMJil"
      },
      "execution_count": null,
      "outputs": []
    },
    {
      "cell_type": "code",
      "source": [
        "# Step 1: Randomly select 10% of the test set\n",
        "num_images = x_test.shape[0]\n",
        "num_attack_images = int(num_images * 0.1)  # 10% of the test set\n",
        "\n",
        "# Randomly select indices for 10% of the images\n",
        "attack_indices = np.random.choice(num_images, num_attack_images, replace=False)\n",
        "\n",
        "# Step 2: Create a copy of x_test to hold the adversarial images\n",
        "x_test_adv = np.copy(x_test)\n",
        "\n"
      ],
      "metadata": {
        "id": "B-NvczhXWMX2"
      },
      "execution_count": null,
      "outputs": []
    },
    {
      "cell_type": "code",
      "source": [
        "\n",
        "# Step 5: FGSM Attack Implementation\n",
        "def fgsm_attack(model, x, y, epsilon=0.1):\n",
        "    x_var = tf.Variable(x)\n",
        "    with tf.GradientTape() as tape:\n",
        "        tape.watch(x_var)\n",
        "        predictions = model(x_var)\n",
        "        loss = tf.keras.losses.categorical_crossentropy(y, predictions)\n",
        "    gradient = tape.gradient(loss, x_var)\n",
        "    perturbation = epsilon * tf.sign(gradient)\n",
        "    x_adv = x + perturbation\n",
        "    x_adv = tf.clip_by_value(x_adv, 0, 1)  # Ensure the values are between 0 and 1\n",
        "    return x_adv"
      ],
      "metadata": {
        "id": "w3D25oJLGSQb"
      },
      "execution_count": null,
      "outputs": []
    },
    {
      "cell_type": "code",
      "source": [
        "# Step 3: Apply the FGSM attack only to the selected 10% of images\n",
        "x_test_adv[attack_indices] = fgsm_attack(model, x_test[attack_indices], y_test[attack_indices], epsilon=0.5)"
      ],
      "metadata": {
        "id": "rHoPnQBSR0PF"
      },
      "execution_count": null,
      "outputs": []
    },
    {
      "cell_type": "code",
      "source": [
        "# Step 7: Evaluate on adversarial examples\n",
        "loss_adv, accuracy_adv = model.evaluate(x_test_adv, y_test)\n",
        "print(f\"Test Loss (Adversarial): {loss_adv}\")\n",
        "print(f\"Test Accuracy (Adversarial): {accuracy_adv}\")"
      ],
      "metadata": {
        "colab": {
          "base_uri": "https://localhost:8080/"
        },
        "id": "3TzK2jZeR3ce",
        "outputId": "7f238366-5636-4e6e-c361-56566e2d45f6"
      },
      "execution_count": null,
      "outputs": [
        {
          "output_type": "stream",
          "name": "stdout",
          "text": [
            "\u001b[1m313/313\u001b[0m \u001b[32m━━━━━━━━━━━━━━━━━━━━\u001b[0m\u001b[37m\u001b[0m \u001b[1m2s\u001b[0m 6ms/step - accuracy: 0.1203 - loss: 20.9548\n",
            "Test Loss (Adversarial): 20.93642807006836\n",
            "Test Accuracy (Adversarial): 0.12200000137090683\n"
          ]
        }
      ]
    },
    {
      "cell_type": "code",
      "source": [
        "\n",
        "# PGD Attack Function\n",
        "def pgd_attack(model, x, y, epsilon=0.1, alpha=0.01, num_iter=40):\n",
        "    \"\"\"\n",
        "    Perform PGD attack on input data.\n",
        "\n",
        "    Args:\n",
        "        model: The target model.\n",
        "        x: Input data (images).\n",
        "        y: True labels.\n",
        "        epsilon: Maximum perturbation.\n",
        "        alpha: Step size for each iteration.\n",
        "        num_iter: Number of iterations.\n",
        "\n",
        "    Returns:\n",
        "        Adversarial examples.\n",
        "    \"\"\"\n",
        "    # Start with the original image\n",
        "    x_adv = tf.Variable(x)\n",
        "\n",
        "    for _ in range(num_iter):\n",
        "        with tf.GradientTape() as tape:\n",
        "            tape.watch(x_adv)\n",
        "            predictions = model(x_adv)\n",
        "            loss = tf.keras.losses.categorical_crossentropy(y, predictions)\n",
        "\n",
        "        # Get the gradient of the loss with respect to the input image\n",
        "        gradient = tape.gradient(loss, x_adv)\n",
        "\n",
        "        # Apply the perturbation (sign of the gradient * step size)\n",
        "        perturbation = alpha * tf.sign(gradient)\n",
        "\n",
        "        # Update the adversarial image by adding the perturbation\n",
        "        x_adv = x_adv + perturbation\n",
        "\n",
        "        # Project the adversarial image back into the valid range [0, 1]\n",
        "        x_adv = tf.clip_by_value(x_adv, 0, 1)\n",
        "\n",
        "        # Ensure the perturbation is within the epsilon bound\n",
        "        perturbation = tf.clip_by_value(x_adv - x, -epsilon, epsilon)\n",
        "        x_adv = x + perturbation\n",
        "\n",
        "        # Ensure the values are within [0, 1]\n",
        "        x_adv = tf.clip_by_value(x_adv, 0, 1)\n",
        "\n",
        "    return x_adv"
      ],
      "metadata": {
        "id": "jjt4DAibYufh"
      },
      "execution_count": null,
      "outputs": []
    },
    {
      "cell_type": "code",
      "source": [
        "# Step 3: Apply the PGD attack only to the selected 10% of images\n",
        "for i in attack_indices:\n",
        "    x_test_adv[i] = pgd_attack(model, x_test[i:i+1], y_test[i:i+1], epsilon=0.1, alpha=0.01, num_iter=40)"
      ],
      "metadata": {
        "id": "qP6eQqE5YwZI"
      },
      "execution_count": null,
      "outputs": []
    },
    {
      "cell_type": "code",
      "source": [
        "# Step 4: Evaluate the model on the entire (mixed) x_test dataset\n",
        "loss, accuracy = model.evaluate(x_test_adv, y_test)\n",
        "print(f\"Test Loss (with 10% poisoned by PGD): {loss}\")\n",
        "print(f\"Test Accuracy (with 10% poisoned by PGD): {accuracy}\")"
      ],
      "metadata": {
        "colab": {
          "base_uri": "https://localhost:8080/"
        },
        "id": "e7JTKNQZbiVJ",
        "outputId": "c1e90931-be9c-436a-b1aa-f5e3a617e6bc"
      },
      "execution_count": null,
      "outputs": [
        {
          "output_type": "stream",
          "name": "stdout",
          "text": [
            "\u001b[1m313/313\u001b[0m \u001b[32m━━━━━━━━━━━━━━━━━━━━\u001b[0m\u001b[37m\u001b[0m \u001b[1m2s\u001b[0m 6ms/step - accuracy: 0.1982 - loss: 6.0058\n",
            "Test Loss (with 10% poisoned by PGD): 5.818140506744385\n",
            "Test Accuracy (with 10% poisoned by PGD): 0.2053000032901764\n"
          ]
        }
      ]
    },
    {
      "cell_type": "code",
      "source": [
        "import random\n",
        "from scipy.ndimage import shift\n",
        "\n",
        "# Spatial Attack Function (Random Pixel Shifts)\n",
        "def spatial_attack(x, shift_range=5):\n",
        "    \"\"\"\n",
        "    Apply a spatial attack by shifting pixels in random directions.\n",
        "\n",
        "    Args:\n",
        "        x: Input image (1 sample).\n",
        "        shift_range: Range for random pixel shifts (how many pixels to shift).\n",
        "\n",
        "    Returns:\n",
        "        Adversarial example.\n",
        "    \"\"\"\n",
        "    # Randomly shift the image in both x and y directions\n",
        "    shift_x = random.randint(-shift_range, shift_range)\n",
        "    shift_y = random.randint(-shift_range, shift_range)\n",
        "\n",
        "    # Apply the shift to the image\n",
        "    x_adv = shift(x, (shift_x, shift_y, 0), mode='nearest')\n",
        "\n",
        "    # Ensure the image is within [0, 1]\n",
        "    x_adv = np.clip(x_adv, 0, 1)\n",
        "\n",
        "    return x_adv"
      ],
      "metadata": {
        "id": "cJewCbOyx_ZA"
      },
      "execution_count": null,
      "outputs": []
    },
    {
      "cell_type": "code",
      "source": [
        "# Step 3: Apply the Spatial attack only to the selected 10% of images\n",
        "for i in attack_indices:\n",
        "    x_test_adv[i] = spatial_attack(x_test[i], shift_range=5)"
      ],
      "metadata": {
        "id": "k10Q8x5MyFhs"
      },
      "execution_count": null,
      "outputs": []
    },
    {
      "cell_type": "code",
      "source": [
        "# Step 4: Evaluate the model on the entire (mixed) x_test dataset\n",
        "loss, accuracy = model.evaluate(x_test_adv, y_test)\n",
        "print(f\"Test Loss (with 10% poisoned by Spatial Attack): {loss}\")\n",
        "print(f\"Test Accuracy (with 10% poisoned by Spatial Attack): {accuracy}\")"
      ],
      "metadata": {
        "colab": {
          "base_uri": "https://localhost:8080/"
        },
        "id": "HirOf5FSyTh2",
        "outputId": "0fbf5133-5bb2-4161-977e-5d08687eb884"
      },
      "execution_count": null,
      "outputs": [
        {
          "output_type": "stream",
          "name": "stdout",
          "text": [
            "\u001b[1m313/313\u001b[0m \u001b[32m━━━━━━━━━━━━━━━━━━━━\u001b[0m\u001b[37m\u001b[0m \u001b[1m3s\u001b[0m 9ms/step - accuracy: 0.9300 - loss: 0.5059\n",
            "Test Loss (with 10% poisoned by Spatial Attack): 0.502133846282959\n",
            "Test Accuracy (with 10% poisoned by Spatial Attack): 0.9343000054359436\n"
          ]
        }
      ]
    }
  ]
}